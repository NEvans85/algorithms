{
 "cells": [
  {
   "cell_type": "markdown",
   "metadata": {},
   "source": [
    "What day of the week did hitler get elected on?\n",
    "What day of the week did the Normans invade Britain on?\n",
    "What day of the week did Jesus die on?\n",
    "What day of the week did MacDonald get founded on?\n",
    "Today we're gonna find out\n",
    "For todays challenge you are allowed to use your languages built in Calender functions/classes.\n",
    "But it's more interesting if you do the calculation yourself :)\n",
    "\n",
    "Hint\n",
    "It's leap-year if the year is divisible by 4\n",
    "\n",
    "Ignore leap-year if the year is divisible by 100\n",
    "\n",
    "Ignore previous rule if the year is divisible by 400\n",
    "\n",
    "Input example\n",
    "\n",
    "The input will be 3 integers as such:\n",
    "YEAR MONTH DATE\n",
    "Limits for the 3 integers:\n",
    "\n",
    "8000 > YEAR > 0\n",
    "\n",
    "13 > MONTH > 0\n",
    "\n",
    "32 > DATE > 0\n",
    "\n",
    "Sorry to anyone starting at 0.\n",
    "January is 1 and December is 12\n",
    "Assume all dates to be correct (i.e. no 31th of february)\n",
    "\n",
    "Input will look like:\n",
    "\n",
    "2017 10 30\n",
    "\n",
    "Output example\n",
    "\n",
    "Output is simply the day of the week of the given date, for above it would be:\n",
    "\n",
    "Monday\n",
    "\n",
    "Challenge input\n",
    "\n",
    "2017 10 30\n",
    "\n",
    "2016 2 29\n",
    "\n",
    "2015 2 28\n",
    "\n",
    "29 4 12\n",
    "\n",
    "570 11 30\n",
    "\n",
    "1066 9 25\n",
    "\n",
    "1776 7 4\n",
    "\n",
    "1933 1 30\n",
    "\n",
    "1953 3 6\n",
    "\n",
    "2100 1 9\n",
    "\n",
    "2202 12 15\n",
    "\n",
    "7032 3 26\n"
   ]
  },
  {
   "cell_type": "code",
   "execution_count": 7,
   "metadata": {},
   "outputs": [
    {
     "name": "stdout",
     "output_type": "stream",
     "text": [
      "2\n",
      "2\n",
      "2\n",
      "2\n",
      "0\n",
      "0\n",
      "2\n",
      "2\n",
      " \n"
     ]
    },
    {
     "ename": "ValueError",
     "evalue": "invalid literal for int() with base 10: ''",
     "output_type": "error",
     "traceback": [
      "\u001b[0;31m---------------------------------------------------------------------------\u001b[0m",
      "\u001b[0;31mValueError\u001b[0m                                Traceback (most recent call last)",
      "\u001b[0;32m<ipython-input-7-f80408cd9eed>\u001b[0m in \u001b[0;36m<module>\u001b[0;34m()\u001b[0m\n\u001b[1;32m     19\u001b[0m     \u001b[0;32mreturn\u001b[0m \u001b[0mresult\u001b[0m\u001b[0;34m\u001b[0m\u001b[0m\n\u001b[1;32m     20\u001b[0m \u001b[0;34m\u001b[0m\u001b[0m\n\u001b[0;32m---> 21\u001b[0;31m \u001b[0mwhichDay\u001b[0m\u001b[0;34m(\u001b[0m\u001b[0;34m\"2202 12 15\"\u001b[0m\u001b[0;34m)\u001b[0m\u001b[0;34m\u001b[0m\u001b[0m\n\u001b[0m",
      "\u001b[0;32m<ipython-input-7-f80408cd9eed>\u001b[0m in \u001b[0;36mwhichDay\u001b[0;34m(inputStr)\u001b[0m\n\u001b[1;32m      1\u001b[0m \u001b[0;32mdef\u001b[0m \u001b[0mwhichDay\u001b[0m\u001b[0;34m(\u001b[0m\u001b[0minputStr\u001b[0m\u001b[0;34m)\u001b[0m\u001b[0;34m:\u001b[0m\u001b[0;34m\u001b[0m\u001b[0m\n\u001b[0;32m----> 2\u001b[0;31m     \u001b[0mdateList\u001b[0m \u001b[0;34m=\u001b[0m \u001b[0mparse\u001b[0m\u001b[0;34m(\u001b[0m\u001b[0minputStr\u001b[0m\u001b[0;34m)\u001b[0m\u001b[0;34m\u001b[0m\u001b[0m\n\u001b[0m\u001b[1;32m      3\u001b[0m     \u001b[0mprint\u001b[0m\u001b[0;34m(\u001b[0m\u001b[0mdateList\u001b[0m\u001b[0;34m)\u001b[0m\u001b[0;34m\u001b[0m\u001b[0m\n\u001b[1;32m      4\u001b[0m     \u001b[0myear\u001b[0m \u001b[0;34m=\u001b[0m \u001b[0mdateList\u001b[0m\u001b[0;34m[\u001b[0m\u001b[0;36m0\u001b[0m\u001b[0;34m]\u001b[0m\u001b[0;34m\u001b[0m\u001b[0m\n\u001b[1;32m      5\u001b[0m     \u001b[0mmonth\u001b[0m \u001b[0;34m=\u001b[0m \u001b[0mdateList\u001b[0m\u001b[0;34m[\u001b[0m\u001b[0;36m1\u001b[0m\u001b[0;34m]\u001b[0m\u001b[0;34m\u001b[0m\u001b[0m\n",
      "\u001b[0;32m<ipython-input-7-f80408cd9eed>\u001b[0m in \u001b[0;36mparse\u001b[0;34m(inputStr)\u001b[0m\n\u001b[1;32m     13\u001b[0m         \u001b[0mprint\u001b[0m\u001b[0;34m(\u001b[0m\u001b[0mch\u001b[0m\u001b[0;34m)\u001b[0m\u001b[0;34m\u001b[0m\u001b[0m\n\u001b[1;32m     14\u001b[0m         \u001b[0;32mif\u001b[0m \u001b[0mch\u001b[0m \u001b[0;34m==\u001b[0m \u001b[0;34m\" \"\u001b[0m\u001b[0;34m:\u001b[0m\u001b[0;34m\u001b[0m\u001b[0m\n\u001b[0;32m---> 15\u001b[0;31m             \u001b[0mresult\u001b[0m\u001b[0;34m.\u001b[0m\u001b[0mappend\u001b[0m\u001b[0;34m(\u001b[0m\u001b[0mint\u001b[0m\u001b[0;34m(\u001b[0m\u001b[0mnum\u001b[0m\u001b[0;34m)\u001b[0m\u001b[0;34m)\u001b[0m\u001b[0;34m\u001b[0m\u001b[0m\n\u001b[0m\u001b[1;32m     16\u001b[0m         \u001b[0;32melse\u001b[0m\u001b[0;34m:\u001b[0m\u001b[0;34m\u001b[0m\u001b[0m\n\u001b[1;32m     17\u001b[0m             \u001b[0mnum\u001b[0m \u001b[0;34m=\u001b[0m \u001b[0mnum\u001b[0m \u001b[0;34m+\u001b[0m \u001b[0mch\u001b[0m\u001b[0;34m\u001b[0m\u001b[0m\n",
      "\u001b[0;31mValueError\u001b[0m: invalid literal for int() with base 10: ''"
     ]
    }
   ],
   "source": [
    "def whichDay(inputStr):\n",
    "    dateList = parse(inputStr)\n",
    "    print(dateList)\n",
    "    year = dateList[0]\n",
    "    month = dateList[1]\n",
    "    day = dateList[2]\n",
    "    \n",
    "\n",
    "def parse(inputStr):\n",
    "    result = []\n",
    "    num = \"\"\n",
    "    for ch in inputStr:\n",
    "        print(ch)\n",
    "        if ch == \" \":\n",
    "            result.append(int(num))\n",
    "        else:\n",
    "            num = num + ch\n",
    "            print(num)\n",
    "    return result\n",
    "\n",
    "whichDay(\"2202 12 15\")"
   ]
  },
  {
   "cell_type": "code",
   "execution_count": null,
   "metadata": {
    "collapsed": true
   },
   "outputs": [],
   "source": []
  }
 ],
 "metadata": {
  "kernelspec": {
   "display_name": "Python 3",
   "language": "python",
   "name": "python3"
  },
  "language_info": {
   "codemirror_mode": {
    "name": "ipython",
    "version": 3
   },
   "file_extension": ".py",
   "mimetype": "text/x-python",
   "name": "python",
   "nbconvert_exporter": "python",
   "pygments_lexer": "ipython3",
   "version": "3.6.3"
  }
 },
 "nbformat": 4,
 "nbformat_minor": 2
}
