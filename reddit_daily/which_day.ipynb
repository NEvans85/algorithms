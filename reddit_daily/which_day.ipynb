{
 "cells": [
  {
   "cell_type": "markdown",
   "metadata": {},
   "source": [
    "What day of the week did hitler get elected on?\n",
    "What day of the week did the Normans invade Britain on?\n",
    "What day of the week did Jesus die on?\n",
    "What day of the week did MacDonald get founded on?\n",
    "Today we're gonna find out\n",
    "For todays challenge you are allowed to use your languages built in Calender functions/classes.\n",
    "But it's more interesting if you do the calculation yourself :)\n",
    "\n",
    "Hint\n",
    "It's leap-year if the year is divisible by 4\n",
    "\n",
    "Ignore leap-year if the year is divisible by 100\n",
    "\n",
    "Ignore previous rule if the year is divisible by 400\n",
    "\n",
    "Input example\n",
    "\n",
    "The input will be 3 integers as such:\n",
    "YEAR MONTH DATE\n",
    "Limits for the 3 integers:\n",
    "\n",
    "8000 > YEAR > 0\n",
    "\n",
    "13 > MONTH > 0\n",
    "\n",
    "32 > DATE > 0\n",
    "\n",
    "Sorry to anyone starting at 0.\n",
    "January is 1 and December is 12\n",
    "Assume all dates to be correct (i.e. no 31th of february)\n",
    "\n",
    "Input will look like:\n",
    "\n",
    "2017 10 30\n",
    "\n",
    "Output example\n",
    "\n",
    "Output is simply the day of the week of the given date, for above it would be:\n",
    "\n",
    "Monday\n",
    "\n",
    "Challenge input\n",
    "\n",
    "2017 10 30\n",
    "\n",
    "2016 2 29\n",
    "\n",
    "2015 2 28\n",
    "\n",
    "29 4 12\n",
    "\n",
    "570 11 30\n",
    "\n",
    "1066 9 25\n",
    "\n",
    "1776 7 4\n",
    "\n",
    "1933 1 30\n",
    "\n",
    "1953 3 6\n",
    "\n",
    "2100 1 9\n",
    "\n",
    "2202 12 15\n",
    "\n",
    "7032 3 26\n"
   ]
  },
  {
   "cell_type": "code",
   "execution_count": 16,
   "metadata": {},
   "outputs": [
    {
     "name": "stdout",
     "output_type": "stream",
     "text": [
      "Tuesday\n"
     ]
    }
   ],
   "source": [
    "import math\n",
    "\n",
    "def whichDay(inputStr):\n",
    "    dateList = parse(inputStr)\n",
    "    year = dateList[0]\n",
    "    month = dateList[1]\n",
    "    day = dateList[2]\n",
    "    dotw = [\"Saturday\", \"Sunday\", \"Monday\", \"Tuesday\", \"Wednesday\", \"Thursday\", \"Friday\"]\n",
    "    daysPerMonth = [31,28,31,30,31,30,31,31,30,31,30,31]\n",
    "    monthToDays = 0\n",
    "    for el in daysPerMonth[0:month - 1]:\n",
    "        monthToDays = monthToDays + el\n",
    "    leapDays = math.floor(year / 4) - math.floor(year / 100) + math.floor(year/400)\n",
    "    yearToDays = year * 365 + leapDays\n",
    "    totalDays = day + monthToDays + yearToDays\n",
    "    return dotw[totalDays % 7]\n",
    "    \n",
    "\n",
    "def parse(inputStr):\n",
    "    result = []\n",
    "    num = \"\"\n",
    "    for ch in inputStr:\n",
    "        if ch == \" \":\n",
    "            result.append(int(num))\n",
    "            num = \"\"\n",
    "        else:\n",
    "            num = num + ch\n",
    "    result.append(int(num))\n",
    "    return result\n",
    "\n",
    "print(whichDay(\"2016 2 29\"))"
   ]
  },
  {
   "cell_type": "code",
   "execution_count": null,
   "metadata": {
    "collapsed": true
   },
   "outputs": [],
   "source": []
  }
 ],
 "metadata": {
  "kernelspec": {
   "display_name": "Python 3",
   "language": "python",
   "name": "python3"
  },
  "language_info": {
   "codemirror_mode": {
    "name": "ipython",
    "version": 3
   },
   "file_extension": ".py",
   "mimetype": "text/x-python",
   "name": "python",
   "nbconvert_exporter": "python",
   "pygments_lexer": "ipython3",
   "version": "3.6.3"
  }
 },
 "nbformat": 4,
 "nbformat_minor": 2
}
